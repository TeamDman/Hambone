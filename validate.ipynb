{
 "cells": [
  {
   "cell_type": "code",
   "execution_count": 1,
   "metadata": {},
   "outputs": [],
   "source": [
    "%load_ext autoreload\n",
    "%autoreload 2"
   ]
  },
  {
   "cell_type": "code",
   "execution_count": 16,
   "metadata": {},
   "outputs": [
    {
     "name": "stdout",
     "output_type": "stream",
     "text": [
      "Loading data from \"tracks/validate\\**\\*.wav\"\n",
      "Using default device: cpu\n"
     ]
    }
   ],
   "source": [
    "from trainer import Trainer\n",
    "from dataset import Dataset\n",
    "from model import SpectrogramModel\n",
    "ds = Dataset(\"tracks/validate\")\n",
    "model = SpectrogramModel(len(ds.label_encoder.classes_))\n",
    "trainer = Trainer(ds,model)"
   ]
  },
  {
   "cell_type": "code",
   "execution_count": 21,
   "metadata": {},
   "outputs": [],
   "source": [
    "i=5202\n",
    "trainer.load_from(name=f\"model{i}.pth\")"
   ]
  },
  {
   "cell_type": "code",
   "execution_count": 22,
   "metadata": {},
   "outputs": [
    {
     "name": "stdout",
     "output_type": "stream",
     "text": [
      "Validation example 0\n",
      "actual: bad apple\n"
     ]
    }
   ],
   "source": [
    "import numpy as np\n",
    "from collections import Counter\n",
    "\n",
    "for i, (y, x) in enumerate(ds):\n",
    "    print(f\"Validation example {i}\")\n",
    "    y_lbl = ds.label_encoder.inverse_transform([np.argmax(y)])[0]\n",
    "    print(\"actual:\", y_lbl)\n",
    "\n",
    "    y_pred = model(x)\n",
    "    y_pred_lbl = list(ds.label_encoder.inverse_transform(y_pred.argmax(axis=1)))\n",
    "    print(\"predicted:\", max(y_pred_lbl, key=y_pred_lbl.count), \" | \", Counter(y_pred_lbl))\n",
    "    print()"
   ]
  }
 ],
 "metadata": {
  "kernelspec": {
   "display_name": "Python 3.7.13 ('hambone')",
   "language": "python",
   "name": "python3"
  },
  "language_info": {
   "codemirror_mode": {
    "name": "ipython",
    "version": 3
   },
   "file_extension": ".py",
   "mimetype": "text/x-python",
   "name": "python",
   "nbconvert_exporter": "python",
   "pygments_lexer": "ipython3",
   "version": "3.7.13"
  },
  "orig_nbformat": 4,
  "vscode": {
   "interpreter": {
    "hash": "8b05b3b44eb53e84f110eb6a4a3319032819c2303fde86f693bd6476536004c2"
   }
  }
 },
 "nbformat": 4,
 "nbformat_minor": 2
}

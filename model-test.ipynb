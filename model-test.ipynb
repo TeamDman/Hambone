{
 "cells": [
  {
   "cell_type": "code",
   "execution_count": 1,
   "metadata": {},
   "outputs": [],
   "source": [
    "%load_ext autoreload\n",
    "%autoreload 2"
   ]
  },
  {
   "cell_type": "code",
   "execution_count": 2,
   "metadata": {},
   "outputs": [
    {
     "name": "stdout",
     "output_type": "stream",
     "text": [
      "Loading data from \"tracks\\**\\*.wav\"\n",
      "3\n"
     ]
    }
   ],
   "source": [
    "import dataset\n",
    "from dataset import Dataset\n",
    "ds = Dataset(\"tracks\")\n",
    "print(len(ds))"
   ]
  },
  {
   "cell_type": "code",
   "execution_count": 3,
   "metadata": {},
   "outputs": [
    {
     "name": "stderr",
     "output_type": "stream",
     "text": [
      "d:\\Repos\\Other\\slap\\dataset.py:53: FutureWarning: Pass size=3686400 as keyword args. From version 0.10 passing these as positional arguments will result in an error\n",
      "  audio = librosa.util.fix_length(audio, full_length)\n",
      "d:\\Repos\\Other\\slap\\dataset.py:72: UserWarning: Creating a tensor from a list of numpy.ndarrays is extremely slow. Please consider converting the list to a single numpy.ndarray with numpy.array() before converting to a tensor. (Triggered internally at  C:\\cb\\pytorch_1000000000000\\work\\torch\\csrc\\utils\\tensor_new.cpp:204.)\n",
      "  return label, torch.tensor(clips), torch.tensor(spectros)\n"
     ]
    }
   ],
   "source": [
    "label, clips,spectros = ds[0]"
   ]
  },
  {
   "cell_type": "code",
   "execution_count": 43,
   "metadata": {},
   "outputs": [
    {
     "name": "stdout",
     "output_type": "stream",
     "text": [
      "31014\n"
     ]
    }
   ],
   "source": [
    "from model import SpectrogramModel\n",
    "model = SpectrogramModel(len(ds.label_encoder.classes_))\n",
    "print(model.get_param_count())"
   ]
  },
  {
   "cell_type": "code",
   "execution_count": 46,
   "metadata": {},
   "outputs": [],
   "source": [
    "pred = model(spectros)"
   ]
  },
  {
   "cell_type": "code",
   "execution_count": 48,
   "metadata": {},
   "outputs": [
    {
     "name": "stdout",
     "output_type": "stream",
     "text": [
      "torch.Size([144, 80, 129])\n",
      "torch.Size([144, 3])\n",
      "tensor([[0.3528, 0.3370, 0.3102],\n",
      "        [0.3701, 0.3169, 0.3129],\n",
      "        [0.3668, 0.3202, 0.3130],\n",
      "        [0.3611, 0.3214, 0.3175]], grad_fn=<SliceBackward0>)\n"
     ]
    }
   ],
   "source": [
    "print(spectros.shape)\n",
    "print(pred.shape)\n",
    "print(pred[:4])"
   ]
  }
 ],
 "metadata": {
  "kernelspec": {
   "display_name": "Python 3.7.13 ('hambone')",
   "language": "python",
   "name": "python3"
  },
  "language_info": {
   "codemirror_mode": {
    "name": "ipython",
    "version": 3
   },
   "file_extension": ".py",
   "mimetype": "text/x-python",
   "name": "python",
   "nbconvert_exporter": "python",
   "pygments_lexer": "ipython3",
   "version": "3.7.13"
  },
  "orig_nbformat": 4,
  "vscode": {
   "interpreter": {
    "hash": "8b05b3b44eb53e84f110eb6a4a3319032819c2303fde86f693bd6476536004c2"
   }
  }
 },
 "nbformat": 4,
 "nbformat_minor": 2
}

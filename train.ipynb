{
 "cells": [
  {
   "cell_type": "code",
   "execution_count": 14,
   "metadata": {},
   "outputs": [
    {
     "name": "stdout",
     "output_type": "stream",
     "text": [
      "The autoreload extension is already loaded. To reload it, use:\n",
      "  %reload_ext autoreload\n"
     ]
    }
   ],
   "source": [
    "%load_ext autoreload\n",
    "%autoreload 2"
   ]
  },
  {
   "cell_type": "code",
   "execution_count": 63,
   "metadata": {},
   "outputs": [
    {
     "name": "stdout",
     "output_type": "stream",
     "text": [
      "Loading data from \"tracks\\**\\*.wav\"\n",
      "Using default device: cpu\n"
     ]
    }
   ],
   "source": [
    "from trainer import Trainer\n",
    "from dataset import Dataset\n",
    "from model import SpectrogramModel\n",
    "ds = Dataset(\"tracks\")\n",
    "model = SpectrogramModel(len(ds.label_encoder.classes_))\n",
    "trainer = Trainer(ds,model)"
   ]
  },
  {
   "cell_type": "code",
   "execution_count": 59,
   "metadata": {},
   "outputs": [
    {
     "name": "stdout",
     "output_type": "stream",
     "text": [
      "Beginning training 2 epochs, logging every 1, saving every 100, batch size 30.\n",
      "epoch=0 batch=0/1 loss=0.66713\n",
      "epoch=0 batch=1/2 loss=0.66904\n",
      "epoch=0 batch=2/3 loss=0.66521\n",
      "epoch=0 batch=3/4 loss=0.65540\n",
      "epoch=0 batch=4/5 loss=0.60916\n",
      "epoch=0 batch=5/6 loss=0.60521\n",
      "epoch=0 batch=6/7 loss=0.60442\n",
      "epoch=0 batch=7/8 loss=0.60057\n",
      "epoch=0 batch=8/9 loss=0.59495\n",
      "epoch=0 batch=9/10 loss=0.68288\n",
      "epoch=0 batch=10/11 loss=0.71125\n",
      "epoch=0 batch=11/12 loss=0.71071\n",
      "epoch=0 batch=12/13 loss=0.70727\n",
      "epoch=1 batch=0/13 loss=0.64734\n",
      "epoch=1 batch=1/13 loss=0.65111\n",
      "epoch=1 batch=2/13 loss=0.64824\n",
      "epoch=1 batch=3/13 loss=0.63841\n",
      "epoch=1 batch=4/13 loss=0.60582\n",
      "epoch=1 batch=5/13 loss=0.60949\n",
      "epoch=1 batch=6/13 loss=0.60844\n",
      "epoch=1 batch=7/13 loss=0.60437\n",
      "epoch=1 batch=8/13 loss=0.59960\n",
      "epoch=1 batch=9/13 loss=0.68764\n",
      "epoch=1 batch=10/13 loss=0.71704\n",
      "epoch=1 batch=11/13 loss=0.71521\n",
      "epoch=1 batch=12/13 loss=0.71113\n",
      "Saving checkpoint 130\n",
      "Saved\n"
     ]
    }
   ],
   "source": [
    "trainer.train(\n",
    "    epochs=2,\n",
    "    batch_size=30,\n",
    "    save_every_n=100,\n",
    "    log_every_n=1\n",
    ")"
   ]
  },
  {
   "cell_type": "code",
   "execution_count": 62,
   "metadata": {},
   "outputs": [
    {
     "name": "stdout",
     "output_type": "stream",
     "text": [
      "The tensorboard extension is already loaded. To reload it, use:\n",
      "  %reload_ext tensorboard\n"
     ]
    },
    {
     "data": {
      "text/html": [
       "\n",
       "      <iframe id=\"tensorboard-frame-ba504cdad88afbfd\" width=\"100%\" height=\"800\" frameborder=\"0\">\n",
       "      </iframe>\n",
       "      <script>\n",
       "        (function() {\n",
       "          const frame = document.getElementById(\"tensorboard-frame-ba504cdad88afbfd\");\n",
       "          const url = new URL(\"/\", window.location);\n",
       "          const port = 6006;\n",
       "          if (port) {\n",
       "            url.port = port;\n",
       "          }\n",
       "          frame.src = url;\n",
       "        })();\n",
       "      </script>\n",
       "    "
      ],
      "text/plain": [
       "<IPython.core.display.HTML object>"
      ]
     },
     "metadata": {},
     "output_type": "display_data"
    }
   ],
   "source": [
    "%load_ext tensorboard\n",
    "%tensorboard --logdir runs/run1/"
   ]
  }
 ],
 "metadata": {
  "kernelspec": {
   "display_name": "Python 3.7.13 ('hambone')",
   "language": "python",
   "name": "python3"
  },
  "language_info": {
   "codemirror_mode": {
    "name": "ipython",
    "version": 3
   },
   "file_extension": ".py",
   "mimetype": "text/x-python",
   "name": "python",
   "nbconvert_exporter": "python",
   "pygments_lexer": "ipython3",
   "version": "3.7.13"
  },
  "orig_nbformat": 4,
  "vscode": {
   "interpreter": {
    "hash": "8b05b3b44eb53e84f110eb6a4a3319032819c2303fde86f693bd6476536004c2"
   }
  }
 },
 "nbformat": 4,
 "nbformat_minor": 2
}
